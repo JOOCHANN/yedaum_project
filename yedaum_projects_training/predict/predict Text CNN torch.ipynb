{
 "cells": [
  {
   "cell_type": "code",
   "execution_count": 1,
   "metadata": {},
   "outputs": [],
   "source": [
    "import pandas as pd\n",
    "import numpy as np\n",
    "import torch\n",
    "import torch.nn as nn\n",
    "import argparse\n",
    "from itertools import combinations"
   ]
  },
  {
   "cell_type": "code",
   "execution_count": 2,
   "metadata": {},
   "outputs": [],
   "source": [
    "# 초성 리스트. 00 ~ 18 총 19개\n",
    "CHOSUNG_LIST = ['ㄱ', 'ㄲ', 'ㄴ', 'ㄷ', 'ㄸ', 'ㄹ', 'ㅁ', 'ㅂ', 'ㅃ', 'ㅅ', 'ㅆ', 'ㅇ', 'ㅈ', 'ㅉ', 'ㅊ', 'ㅋ', 'ㅌ', 'ㅍ', 'ㅎ']\n",
    "# 중성 리스트. 00 ~ 20 총 21개\n",
    "JUNGSUNG_LIST = ['ㅏ', 'ㅐ', 'ㅑ', 'ㅒ', 'ㅓ', 'ㅔ', 'ㅕ', 'ㅖ', 'ㅗ', 'ㅘ', 'ㅙ', 'ㅚ', 'ㅛ', 'ㅜ', 'ㅝ', 'ㅞ', 'ㅟ', 'ㅠ', 'ㅡ', 'ㅢ', 'ㅣ']\n",
    "# 종성 리스트. 00 ~ 27 + 1(1개 없음) 총 28개\n",
    "JONGSUNG_LIST = ['J없음', 'Jㄱ', 'Jㄲ', 'Jㄳ', 'Jㄴ', 'Jㄵ', 'Jㄶ', 'Jㄷ', 'Jㄹ', 'Jㄺ', 'Jㄻ', 'Jㄼ', 'Jㄽ', 'Jㄾ', 'Jㄿ', 'Jㅀ', 'Jㅁ', 'Jㅂ', 'Jㅄ', 'Jㅅ', 'Jㅆ', 'Jㅇ', 'Jㅈ', 'Jㅊ', 'Jㅋ', 'Jㅌ', 'Jㅍ', 'Jㅎ']\n",
    "#숫자 리스트 00 ~ 09 총 10개\n",
    "NUMBER_LIST = ['0', '1', '2', '3', '4', '5', '6', '7', '8', '9']\n",
    "#알파벳 00 ~ 25 총 25개\n",
    "ALPHABET_LIST = ['a', 'b', 'c', 'd', 'e', 'f', 'g', 'h', 'i', 'j', 'k', 'l', 'm', 'n', 'o', 'p', 'q', 'r', 's', 't', 'u', 'v', 'w', 'x', 'y', 'z']\n",
    "#특수문자 00 ~ 18 총 19개\n",
    "SPECIAL_CHAR_LIST = ['!', '\\\"', '#', '$', '%', '&', '\\'', '?', '@', '*', '+', ',', '-', '.', '/', '~', ' ', ':', '^']\n",
    "#추가 총 4개\n",
    "SINGLE_CHAR_LIST = ['ㄳ', 'ㄵ', 'ㅄ','ㄺ']\n",
    "#총 127개\n",
    "\n",
    "ALL_CHAR = []\n",
    "ALL_CHAR = ['ㄱ', 'ㄲ', 'ㄴ', 'ㄷ', 'ㄸ', 'ㄹ', 'ㅁ', 'ㅂ', 'ㅃ', 'ㅅ', 'ㅆ', 'ㅇ', 'ㅈ', 'ㅉ', 'ㅊ', 'ㅋ', 'ㅌ', 'ㅍ', 'ㅎ']\n",
    "ALL_CHAR += JUNGSUNG_LIST\n",
    "ALL_CHAR += JONGSUNG_LIST\n",
    "ALL_CHAR += NUMBER_LIST\n",
    "ALL_CHAR += ALPHABET_LIST\n",
    "ALL_CHAR += SPECIAL_CHAR_LIST\n",
    "ALL_CHAR += SINGLE_CHAR_LIST"
   ]
  },
  {
   "cell_type": "code",
   "execution_count": 3,
   "metadata": {},
   "outputs": [],
   "source": [
    "#문자열 데이터가 들어오면 one hot encoding을해서 리스트를 반환.\n",
    "def onehotencoding(string):\n",
    "    return_list = []\n",
    "    tmp_list = []\n",
    "    check = 0\n",
    "    for i in range(len(string)):\n",
    "        for k in range(len(ALL_CHAR)):\n",
    "            if(ALL_CHAR[k] == string[i]):\n",
    "                tmp_list.append(1)\n",
    "                check = 1\n",
    "            else:\n",
    "                tmp_list.append(0)\n",
    "        if(check == 1):\n",
    "            return_list.append(tmp_list)\n",
    "            tmp_list = []\n",
    "            check = 0\n",
    "        else:\n",
    "            tmp_list = []\n",
    "    return return_list"
   ]
  },
  {
   "cell_type": "code",
   "execution_count": 4,
   "metadata": {},
   "outputs": [],
   "source": [
    "#자모단위로 분해\n",
    "def tokenize(word):\n",
    "    r_lst = []\n",
    "    for w in list(word.strip()):\n",
    "        ## 영어인 경우 구분해서 작성함. \n",
    "        if '가'<=w<='힣':\n",
    "            ## 588개 마다 초성이 바뀜. \n",
    "            ch1 = (ord(w) - ord('가'))//588\n",
    "            ## 중성은 총 28가지 종류\n",
    "            ch2 = ((ord(w) - ord('가')) - (588*ch1)) // 28\n",
    "            ch3 = (ord(w) - ord('가')) - (588*ch1) - 28*ch2\n",
    "            r_lst.append(CHOSUNG_LIST[ch1])\n",
    "            r_lst.append(JUNGSUNG_LIST[ch2])\n",
    "            if ch3 != 0:\n",
    "                r_lst.append(JONGSUNG_LIST[ch3])\n",
    "        elif 'A'<=w<='Z':\n",
    "            ch = (ord(w) - ord('A'))\n",
    "            r_lst.append(ALPHABET_LIST[ch])\n",
    "        elif 'a'<=w<='z':\n",
    "            ch = (ord(w) - ord('a'))\n",
    "            r_lst.append(ALPHABET_LIST[ch])\n",
    "        else:\n",
    "            r_lst.append(w)\n",
    "         \n",
    "    \n",
    "    return r_lst"
   ]
  },
  {
   "cell_type": "code",
   "execution_count": 5,
   "metadata": {},
   "outputs": [],
   "source": [
    "#데이터 크기가 n보다 크면 n까지 자르고, n보다 작으면 n크기까지 zero padding을 함.\n",
    "def max_resize_data(data):\n",
    "    n = 200\n",
    "    if(len(data) > n):\n",
    "        data = data[:n]\n",
    "    return data\n",
    "\n",
    "def zero_padding_resize_data(data):\n",
    "    zero_list = [0 for k in range(127)]\n",
    "    for i in range(len(data), 200):\n",
    "        data.append(zero_list)\n",
    "    return data"
   ]
  },
  {
   "cell_type": "code",
   "execution_count": 6,
   "metadata": {},
   "outputs": [],
   "source": [
    "class Text_CNN(nn.Module):\n",
    "    def __init__(self):\n",
    "        super(Text_CNN, self).__init__()\n",
    "        self.conv1 = nn.Sequential(\n",
    "            nn.Conv1d(in_channels = 127, out_channels = 512, kernel_size = 6, stride=1),\n",
    "            #[batch_size, 512, 195]\n",
    "            nn.ReLU(),\n",
    "            nn.MaxPool1d(kernel_size=3, stride=1)\n",
    "            #[batch_size, 512, 193]\n",
    "        )\n",
    "        self.conv2 = nn.Sequential(\n",
    "            nn.Conv1d(in_channels = 512, out_channels = 512, kernel_size = 9, stride=1),\n",
    "            #[batch_size, 512, 185]\n",
    "            nn.ReLU(),\n",
    "            nn.MaxPool1d(kernel_size=3, stride=1)\n",
    "            #[batch_size, 512, 183]\n",
    "        ) \n",
    "        self.conv3 = nn.Sequential(\n",
    "            nn.Conv1d(in_channels = 512, out_channels = 512, kernel_size = 12, stride=1),\n",
    "            #[batch_size, 512, 172]\n",
    "            nn.ReLU(),\n",
    "            nn.MaxPool1d(kernel_size=3, stride=1)\n",
    "            #[batch_size, 512, 170]\n",
    "        )\n",
    "        self.fc1 = nn.Sequential(\n",
    "            nn.Linear(in_features=512*170, out_features=1024),\n",
    "            #[batch_size, 86016] -> [batch_size, 1024]\n",
    "            nn.ReLU(),\n",
    "            #nn.Dropout(p = 0.5) #테스트 타임떄는 dropout 제거\n",
    "        )\n",
    "        self.fc2 = nn.Sequential(\n",
    "            nn.Linear(in_features=1024, out_features=1024),\n",
    "            #[batch_size, 1024] -> [batch_size, 1024]\n",
    "            nn.ReLU(),\n",
    "           #nn.Dropout(p=0.5) #테스트 타임떄는 dropout 제거\n",
    "        )\n",
    "        self.fc3 = nn.Linear(in_features=1024, out_features=1)\n",
    "        #[batch_size, 1024] -> [batch_size, 2]\n",
    "        self.sigmoid = nn.Sigmoid()\n",
    "\n",
    "    def forward(self, x):\n",
    "        x = self.conv1(x)\n",
    "        #[batch_size, 512, 120]\n",
    "        x = self.conv2(x)\n",
    "        #[batch_size, 512, 110]\n",
    "        x = self.conv3(x)\n",
    "        #[batch_size, 512, 97]\n",
    "        \n",
    "        # collapse\n",
    "        x = x.view(x.size(0), -1) #[batch_size, 49664]\n",
    "        # linear layer\n",
    "        x = self.fc1(x) #[batch_size, 1024]\n",
    "        # linear layer\n",
    "        x = self.fc2(x) #[batch_size, 1024]\n",
    "        # linear layer\n",
    "        x = self.fc3(x) #[batch_size, 2]\n",
    "        # output layer\n",
    "        x = self.sigmoid(x)\n",
    "        \n",
    "        return x"
   ]
  },
  {
   "cell_type": "code",
   "execution_count": 7,
   "metadata": {},
   "outputs": [],
   "source": [
    "def isbadword(s_list):\n",
    "    li_str = []\n",
    "    li_num = []\n",
    "    for i in range(0, len(s_list)):\n",
    "        a = list(combinations(s_list, i+1))\n",
    "        for j in range(0, len(a)):\n",
    "            str1 = ' '.join(a[j])\n",
    "            li_str.append(str1)\n",
    "            li_num.append(make_output(str1))\n",
    "    \n",
    "    li_str.reverse()\n",
    "    li_num.reverse()\n",
    "    return li_str, li_num"
   ]
  },
  {
   "cell_type": "code",
   "execution_count": 8,
   "metadata": {},
   "outputs": [],
   "source": [
    "def choose_one_string(li_str, li_num, s_list):\n",
    "    for i in range(0, len(li_num)):\n",
    "        #if( make_output(s)-0.5 > li_num):\n",
    "        if( 0.4 > li_num[i]):\n",
    "            a = li_str[i].split()\n",
    "            \n",
    "            for j in range(0, len(s_list)):\n",
    "                \n",
    "                if( a.count(s_list[j]) == 0):\n",
    "                    len_l = len(s_list[j])\n",
    "                    s_list.remove(s_list[j])\n",
    "                    num_s = \"*\"\n",
    "                    for k in range(1, len_l):\n",
    "                        num_s = num_s + \"*\"\n",
    "                    s_list.insert(j, num_s)\n",
    "                    len_l = 0\n",
    "                    \n",
    "            return ' '.join(s_list)\n",
    "    \n",
    "    tmp = []\n",
    "    for i in range(0, len(s_list)):\n",
    "        num_s = \"*\"\n",
    "        for j in range(1, len(s_list[i])):\n",
    "            num_s = num_s + \"*\"\n",
    "        tmp.insert(i, num_s)\n",
    "    return ' '.join(tmp)"
   ]
  },
  {
   "cell_type": "code",
   "execution_count": 9,
   "metadata": {},
   "outputs": [],
   "source": [
    "def check_isbad(num):\n",
    "    if(num > 0.6):\n",
    "        return True\n",
    "    else:\n",
    "        return False"
   ]
  },
  {
   "cell_type": "code",
   "execution_count": 10,
   "metadata": {},
   "outputs": [],
   "source": [
    "def make_output(string):\n",
    "    x = zero_padding_resize_data(max_resize_data(onehotencoding(tokenize(string))))\n",
    "    x = np.asarray(x).astype('float32')\n",
    "    x = torch.from_numpy(x)\n",
    "    x = x.reshape(1, 200, 127)\n",
    "    x = x.permute(0, 2, 1)\n",
    "    x = x.to(device)\n",
    "    output = load_model.forward(x)\n",
    "    return output.item()"
   ]
  },
  {
   "cell_type": "code",
   "execution_count": 11,
   "metadata": {
    "scrolled": false
   },
   "outputs": [
    {
     "data": {
      "text/plain": [
       "IncompatibleKeys(missing_keys=[], unexpected_keys=[])"
      ]
     },
     "execution_count": 11,
     "metadata": {},
     "output_type": "execute_result"
    }
   ],
   "source": [
    "#모델 불러오기\n",
    "device = torch.device(\"cuda:0\" if torch.cuda.is_available() else \"cpu\")\n",
    "load_model = Text_CNN().to(device)\n",
    "load_model.load_state_dict(torch.load('./text_cnn_pytorch_V4.pth'))"
   ]
  },
  {
   "cell_type": "code",
   "execution_count": 20,
   "metadata": {},
   "outputs": [],
   "source": [
    "s = \"안녕하세요 시2발 반가운 새끼야\""
   ]
  },
  {
   "cell_type": "code",
   "execution_count": 21,
   "metadata": {
    "scrolled": true
   },
   "outputs": [
    {
     "name": "stdout",
     "output_type": "stream",
     "text": [
      "욕일 확률 : 98.56624007225037\n"
     ]
    }
   ],
   "source": [
    "print(\"욕일 확률 : {}\".format(make_output(s)*100))"
   ]
  },
  {
   "cell_type": "code",
   "execution_count": 22,
   "metadata": {
    "scrolled": true
   },
   "outputs": [
    {
     "name": "stdout",
     "output_type": "stream",
     "text": [
      "안녕하세요 시2발 반가운 새끼야       0.9856624007225037\n",
      "시2발 반가운 새끼야       0.9982283711433411\n",
      "안녕하세요 반가운 새끼야       0.9654698967933655\n",
      "안녕하세요 시2발 새끼야       0.983475923538208\n",
      "안녕하세요 시2발 반가운       0.7778898477554321\n",
      "반가운 새끼야       0.983864426612854\n",
      "시2발 새끼야       0.9960117340087891\n",
      "시2발 반가운       0.895861029624939\n",
      "안녕하세요 새끼야       0.9941503405570984\n",
      "안녕하세요 반가운       0.00841602124273777\n",
      "안녕하세요 시2발       0.7618005871772766\n",
      "새끼야       0.9679227471351624\n",
      "반가운       0.011686712503433228\n",
      "시2발       0.8051027655601501\n",
      "안녕하세요       0.013027281500399113\n"
     ]
    }
   ],
   "source": [
    "if(check_isbad(make_output(s)) == True):#욕이라고 판단했을때, (기준은 60%이상)\n",
    "    s_list = []\n",
    "    s_list = s.split()\n",
    "    li_str, li_num = isbadword(s_list)\n",
    "    print_s = choose_one_string(li_str, li_num, s_list)\n",
    "    for i in range(0, len(li_num)):\n",
    "        print(li_str[i], \"     \", li_num[i])\n",
    "else: #욕이 아니라고 판단했을때\n",
    "    print_s = s"
   ]
  },
  {
   "cell_type": "code",
   "execution_count": 23,
   "metadata": {
    "scrolled": false
   },
   "outputs": [
    {
     "data": {
      "text/plain": [
       "'안녕하세요 *** 반가운 ***'"
      ]
     },
     "execution_count": 23,
     "metadata": {},
     "output_type": "execute_result"
    }
   ],
   "source": [
    "print_s"
   ]
  },
  {
   "cell_type": "code",
   "execution_count": null,
   "metadata": {},
   "outputs": [],
   "source": []
  },
  {
   "cell_type": "code",
   "execution_count": null,
   "metadata": {},
   "outputs": [],
   "source": []
  },
  {
   "cell_type": "code",
   "execution_count": null,
   "metadata": {},
   "outputs": [],
   "source": []
  }
 ],
 "metadata": {
  "kernelspec": {
   "display_name": "Python 3",
   "language": "python",
   "name": "python3"
  },
  "language_info": {
   "codemirror_mode": {
    "name": "ipython",
    "version": 3
   },
   "file_extension": ".py",
   "mimetype": "text/x-python",
   "name": "python",
   "nbconvert_exporter": "python",
   "pygments_lexer": "ipython3",
   "version": "3.7.3"
  }
 },
 "nbformat": 4,
 "nbformat_minor": 2
}
